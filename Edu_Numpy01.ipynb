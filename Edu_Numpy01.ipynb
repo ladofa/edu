{
  "nbformat": 4,
  "nbformat_minor": 0,
  "metadata": {
    "colab": {
      "name": "Edu - Numpy01.ipynb",
      "provenance": [],
      "collapsed_sections": [],
      "authorship_tag": "ABX9TyOFGHHeRu+kgXmuYBp/IvMX",
      "include_colab_link": true
    },
    "kernelspec": {
      "name": "python3",
      "display_name": "Python 3"
    },
    "language_info": {
      "name": "python"
    }
  },
  "cells": [
    {
      "cell_type": "markdown",
      "metadata": {
        "id": "view-in-github",
        "colab_type": "text"
      },
      "source": [
        "<a href=\"https://colab.research.google.com/github/ladofa/edu/blob/master/Edu_Numpy01.ipynb\" target=\"_parent\"><img src=\"https://colab.research.google.com/assets/colab-badge.svg\" alt=\"Open In Colab\"/></a>"
      ]
    },
    {
      "cell_type": "markdown",
      "source": [
        "# 리스트로 알아보는 다차원 데이터"
      ],
      "metadata": {
        "id": "-Hx91dJR1EVw"
      }
    },
    {
      "cell_type": "markdown",
      "source": [
        "* 스칼라 dim == 0"
      ],
      "metadata": {
        "id": "dWnyv0tWvTyj"
      }
    },
    {
      "cell_type": "code",
      "execution_count": 1,
      "metadata": {
        "id": "FsCqxUVrm3on"
      },
      "outputs": [],
      "source": [
        "a = 1"
      ]
    },
    {
      "cell_type": "markdown",
      "source": [
        "* 벡터 (or 점) dim == 1\n",
        "* 3차원 공간의 한 점\n",
        "* 여기서 3차원은 vector space 이며 dimension과는 다름\n",
        "* dimension은 선형대수학의 dimension과도 다름"
      ],
      "metadata": {
        "id": "TS-RFu6jvYVo"
      }
    },
    {
      "cell_type": "code",
      "source": [
        "# 3차원 벡터\n",
        "a = [3, 4, 5]\n",
        "vector_space = len(a)\n",
        "\n",
        "# 1차원 벡터는 스칼라와 엄연히 다르면서도 같은 취급을 한다.\n",
        "a = [10]"
      ],
      "metadata": {
        "id": "n_M5zppIvjIJ"
      },
      "execution_count": 2,
      "outputs": []
    },
    {
      "cell_type": "markdown",
      "source": [
        "* 행렬 dim == 2"
      ],
      "metadata": {
        "id": "jUinAFO-vZlP"
      }
    },
    {
      "cell_type": "code",
      "source": [
        "#2행 3열 -> 2 by 3 -> (2, 3)\n",
        "a = [[1, 2, 3], [4, 5, 6]]\n",
        "rows = len(a)\n",
        "cols = len(a[0])"
      ],
      "metadata": {
        "id": "I2uZy4ZPvkbd"
      },
      "execution_count": 3,
      "outputs": []
    },
    {
      "cell_type": "markdown",
      "source": [
        "\n",
        "---\n",
        "**Quiz**\n",
        "\n",
        "다음에 나타낸 행렬의 크기는 무엇인가?\n",
        "```\n",
        "a = [[1], [2]]\n",
        "b = [[1, 2, 3]]\n",
        "```\n",
        "\n",
        "<details>\n",
        "  <summary>정답</summary>\n",
        "\n",
        "  1. a의 크기는 2행 1열이다. .shape = (2, 1)\n",
        "   * len(a)는 2이고 len(a[0])은 1이다.\n",
        "\n",
        "  2. b의 크기는 1행 3열이다.\n",
        "   * len(b)는 1이고, len(b[0])은 3이다.\n",
        "</details>\n",
        "\n",
        "---"
      ],
      "metadata": {
        "id": "8PvWmDSPyQ2C"
      }
    },
    {
      "cell_type": "markdown",
      "source": [
        "* 3차원 행렬 dim == 3\n",
        "* 3차원부터는 행렬의 개념이 희박해지며 선형대수학의 범주를 넘어서기 시작함\n",
        "* 행, 열, 그리고 페이지(page)/채널(channel)/깊이(depth) 등 응용에 따라 다양한 호칭 사용\n",
        "* 응용과 해석의 방법에 따라 페이지가 가장 앞에 오기도 함\n",
        "* 딥러닝에서 일반적으로 다루는 데이터는 dim >= 3"
      ],
      "metadata": {
        "id": "BIeMvcs9vpYr"
      }
    },
    {
      "cell_type": "code",
      "source": [
        "#3행 2열 2쪽 -> (3, 2, 2)\n",
        "a = [[[1, 2], [3, 4]], [[5, 6], [7, 8]], [[9, 10], [11, 12]]]\n",
        "rows = len(a)\n",
        "cols = len(a[0])\n",
        "pages = len(a[0][0])\n",
        "\n",
        "#또는 3쪽 2행 2열 -> (3, 2, 2)\n",
        "pages = len(a)\n",
        "rows = len(a[0])\n",
        "cols = len(a[0][0])"
      ],
      "metadata": {
        "id": "9VKmiuH1wW2i"
      },
      "execution_count": null,
      "outputs": []
    },
    {
      "cell_type": "markdown",
      "source": [
        "---\n",
        "**Quiz**\n",
        "\n",
        "다음에 나타낸 행렬의 크기는 무엇인가?\n",
        "\n",
        "```\n",
        "a = [[[1], [2], [3]], [[4], [5], [6]], [[7], [8], [9]], [[10], [11], [12]]]\n",
        "b = a[0]\n",
        "```\n",
        "<details>\n",
        "  <summary>정답</summary>\n",
        "\n",
        "  1. a의 크기는 (4, 3, 1)\n",
        "  2. b의 크기는 (3, 1)\n",
        "    \n",
        "</details>\n",
        "\n",
        "---"
      ],
      "metadata": {
        "id": "SWYElhKBzwkm"
      }
    },
    {
      "cell_type": "markdown",
      "source": [
        "# Ndarray 생성"
      ],
      "metadata": {
        "id": "QnhkOl2B1KL6"
      }
    },
    {
      "cell_type": "markdown",
      "source": [
        "* numpy는 cblas로 구현된 행렬 라이브러리\n",
        "* 파이썬의 모든 행렬 데이터가 np.ndarray로 표현됨\n",
        "* np.array 는 ndarray타입의 인스턴스를 생성하는 함수"
      ],
      "metadata": {
        "id": "QZXH5IhU1PXU"
      }
    },
    {
      "cell_type": "code",
      "source": [
        "import numpy as np\n",
        "a = np.array([[1, 2, 3], [4, 5, 6]])\n",
        "a"
      ],
      "metadata": {
        "colab": {
          "base_uri": "https://localhost:8080/"
        },
        "id": "PaaTW2O40tEQ",
        "outputId": "3d0c9912-f9ca-43c7-b220-caae30144891"
      },
      "execution_count": 10,
      "outputs": [
        {
          "output_type": "execute_result",
          "data": {
            "text/plain": [
              "array([[1, 2, 3],\n",
              "       [4, 5, 6]])"
            ]
          },
          "metadata": {},
          "execution_count": 10
        }
      ]
    },
    {
      "cell_type": "code",
      "source": [
        "type(a)"
      ],
      "metadata": {
        "colab": {
          "base_uri": "https://localhost:8080/"
        },
        "id": "fEkA1mnY2GmL",
        "outputId": "c03c4911-3c73-425d-d087-aa3903a9a106"
      },
      "execution_count": 12,
      "outputs": [
        {
          "output_type": "execute_result",
          "data": {
            "text/plain": [
              "numpy.ndarray"
            ]
          },
          "metadata": {},
          "execution_count": 12
        }
      ]
    },
    {
      "cell_type": "markdown",
      "source": [
        "* 다양한 배열 생성 방법"
      ],
      "metadata": {
        "id": "6B-s9dOl4LW7"
      }
    },
    {
      "cell_type": "code",
      "source": [
        "np.arange(5)"
      ],
      "metadata": {
        "colab": {
          "base_uri": "https://localhost:8080/"
        },
        "id": "2ytM43074Rg5",
        "outputId": "f7ecdfbd-d7cc-43db-d582-01dd2b951840"
      },
      "execution_count": 21,
      "outputs": [
        {
          "output_type": "execute_result",
          "data": {
            "text/plain": [
              "array([0, 1, 2, 3, 4])"
            ]
          },
          "metadata": {},
          "execution_count": 21
        }
      ]
    },
    {
      "cell_type": "code",
      "source": [
        "np.zeros((2, 3))"
      ],
      "metadata": {
        "colab": {
          "base_uri": "https://localhost:8080/"
        },
        "id": "upWsf6UZ4VcQ",
        "outputId": "e10b9874-737f-4b0c-daa7-6d741e5391ea"
      },
      "execution_count": 23,
      "outputs": [
        {
          "output_type": "execute_result",
          "data": {
            "text/plain": [
              "array([[0., 0., 0.],\n",
              "       [0., 0., 0.]])"
            ]
          },
          "metadata": {},
          "execution_count": 23
        }
      ]
    },
    {
      "cell_type": "code",
      "source": [
        "np.ones((2, 3))"
      ],
      "metadata": {
        "colab": {
          "base_uri": "https://localhost:8080/"
        },
        "id": "GNUt6Z4X4nN7",
        "outputId": "2005212c-f808-491b-a2ea-089b0af629fb"
      },
      "execution_count": 24,
      "outputs": [
        {
          "output_type": "execute_result",
          "data": {
            "text/plain": [
              "array([[1., 1., 1.],\n",
              "       [1., 1., 1.]])"
            ]
          },
          "metadata": {},
          "execution_count": 24
        }
      ]
    },
    {
      "cell_type": "code",
      "source": [
        "np.full((3, 4, 2), 10)"
      ],
      "metadata": {
        "colab": {
          "base_uri": "https://localhost:8080/"
        },
        "id": "TdtKItV_4o6O",
        "outputId": "3d5f267a-ae62-46d5-bca6-d63ac48ae299"
      },
      "execution_count": 123,
      "outputs": [
        {
          "output_type": "execute_result",
          "data": {
            "text/plain": [
              "array([[[10, 10],\n",
              "        [10, 10],\n",
              "        [10, 10],\n",
              "        [10, 10]],\n",
              "\n",
              "       [[10, 10],\n",
              "        [10, 10],\n",
              "        [10, 10],\n",
              "        [10, 10]],\n",
              "\n",
              "       [[10, 10],\n",
              "        [10, 10],\n",
              "        [10, 10],\n",
              "        [10, 10]]])"
            ]
          },
          "metadata": {},
          "execution_count": 123
        }
      ]
    },
    {
      "cell_type": "markdown",
      "source": [
        "# dtype"
      ],
      "metadata": {
        "id": "esZGBpnn5AyH"
      }
    },
    {
      "cell_type": "markdown",
      "source": [
        "* 하나의 원소를 표현하기 위해서 시스템의 primitive 타입을 이용\n",
        "* dtype으로 확인\n",
        "* 타입은 [uint/int/float][8/16/32/64] 의 조합으로 사용\n",
        "* 정수형에 대한 기본 타입은 int64"
      ],
      "metadata": {
        "id": "8YY_rv412hqd"
      }
    },
    {
      "cell_type": "code",
      "source": [
        "a.dtype"
      ],
      "metadata": {
        "colab": {
          "base_uri": "https://localhost:8080/"
        },
        "id": "eKN8d9Jo2Hna",
        "outputId": "09c88003-5011-42a6-fe63-5727edea48f1"
      },
      "execution_count": 13,
      "outputs": [
        {
          "output_type": "execute_result",
          "data": {
            "text/plain": [
              "dtype('int64')"
            ]
          },
          "metadata": {},
          "execution_count": 13
        }
      ]
    },
    {
      "cell_type": "markdown",
      "source": [
        "* 실수형에 대한 기본 타입은 float64"
      ],
      "metadata": {
        "id": "NrmITaxE2cFR"
      }
    },
    {
      "cell_type": "code",
      "source": [
        "a = np.array([[1., 2], [3, 4]])\n",
        "a"
      ],
      "metadata": {
        "colab": {
          "base_uri": "https://localhost:8080/"
        },
        "id": "9S0AhgZG2MkT",
        "outputId": "c565e663-e407-4901-ba4e-5402d6e9c5af"
      },
      "execution_count": 17,
      "outputs": [
        {
          "output_type": "execute_result",
          "data": {
            "text/plain": [
              "array([[1., 2.],\n",
              "       [3., 4.]])"
            ]
          },
          "metadata": {},
          "execution_count": 17
        }
      ]
    },
    {
      "cell_type": "code",
      "source": [
        "a.dtype"
      ],
      "metadata": {
        "colab": {
          "base_uri": "https://localhost:8080/"
        },
        "id": "02GKbzWS2Xxw",
        "outputId": "023aaa24-c1e1-4bed-e8c5-fd7ac985ba86"
      },
      "execution_count": 18,
      "outputs": [
        {
          "output_type": "execute_result",
          "data": {
            "text/plain": [
              "dtype('float64')"
            ]
          },
          "metadata": {},
          "execution_count": 18
        }
      ]
    },
    {
      "cell_type": "markdown",
      "source": [
        "* 생성하면서 dtype을 지정할 수 있고 도중에 형변환도 가능"
      ],
      "metadata": {
        "id": "5IokAMZJ1oEW"
      }
    },
    {
      "cell_type": "code",
      "source": [
        "b = np.float32(a)\n",
        "c = a.astype(np.float32) #b, c는 같다.\n",
        "b.dtype"
      ],
      "metadata": {
        "colab": {
          "base_uri": "https://localhost:8080/"
        },
        "id": "HYZUIeBa3fuE",
        "outputId": "cf3d14e0-a4c6-4534-85bf-71f3ca6e4cca"
      },
      "execution_count": 20,
      "outputs": [
        {
          "output_type": "execute_result",
          "data": {
            "text/plain": [
              "dtype('float32')"
            ]
          },
          "metadata": {},
          "execution_count": 20
        }
      ]
    },
    {
      "cell_type": "code",
      "source": [
        "a = np.array([[1, 2], [3, 4]], np.uint8)\n",
        "a.dtype"
      ],
      "metadata": {
        "colab": {
          "base_uri": "https://localhost:8080/"
        },
        "id": "k8tk67Bz3VKt",
        "outputId": "9ff38bc3-ff2f-4eab-bae3-5caa5889a2b5"
      },
      "execution_count": 19,
      "outputs": [
        {
          "output_type": "execute_result",
          "data": {
            "text/plain": [
              "dtype('uint8')"
            ]
          },
          "metadata": {},
          "execution_count": 19
        }
      ]
    },
    {
      "cell_type": "markdown",
      "source": [
        "# shape & axis"
      ],
      "metadata": {
        "id": "SP6zs-VH44Zp"
      }
    },
    {
      "cell_type": "markdown",
      "source": [
        "* 모든 배열은 정적 크기를 가짐\n",
        "* shape으로 확인\n",
        "* shape은 튜플이다."
      ],
      "metadata": {
        "id": "1lWinhPh5GmU"
      }
    },
    {
      "cell_type": "code",
      "source": [
        "np.array([[1, 2], [3, 4]]).shape"
      ],
      "metadata": {
        "colab": {
          "base_uri": "https://localhost:8080/"
        },
        "id": "xwuiq-N55eHJ",
        "outputId": "b735b842-bd86-4c9f-c894-011bef9577ec"
      },
      "execution_count": 29,
      "outputs": [
        {
          "output_type": "execute_result",
          "data": {
            "text/plain": [
              "(2, 2)"
            ]
          },
          "metadata": {},
          "execution_count": 29
        }
      ]
    },
    {
      "cell_type": "code",
      "source": [
        "np.array([1, 2, 3]).shape"
      ],
      "metadata": {
        "colab": {
          "base_uri": "https://localhost:8080/"
        },
        "id": "e9ZoIagC5qSM",
        "outputId": "90368e9f-3590-456a-f8fa-ef565185397c"
      },
      "execution_count": 30,
      "outputs": [
        {
          "output_type": "execute_result",
          "data": {
            "text/plain": [
              "(3,)"
            ]
          },
          "metadata": {},
          "execution_count": 30
        }
      ]
    },
    {
      "cell_type": "code",
      "source": [
        "np.array(1).shape"
      ],
      "metadata": {
        "colab": {
          "base_uri": "https://localhost:8080/"
        },
        "id": "ZqJqqPvK5hde",
        "outputId": "142ab34a-ddaa-4052-e4ed-13d5b52f9fb7"
      },
      "execution_count": 28,
      "outputs": [
        {
          "output_type": "execute_result",
          "data": {
            "text/plain": [
              "()"
            ]
          },
          "metadata": {},
          "execution_count": 28
        }
      ]
    },
    {
      "cell_type": "markdown",
      "source": [
        "---\n",
        "**Quiz**\n",
        "\n",
        "다음 배열의 shape은 무엇인가?\n",
        "```\n",
        "a = np.array([[1, 2], [3, 4], [5, 6]])\n",
        "b = np.array([[3, 4, 5]])\n",
        "c = np.array([[[1]]])\n",
        "d = np.arange(5)\n",
        "```\n",
        "\n",
        "<details>\n",
        "  <summary>정답</summary>\n",
        "\n",
        "  1. a.shape = (3, 2)\n",
        "   \n",
        "  2. b.shape = (1, 3)\n",
        "\n",
        "  3. c.shape = (1, 1, 1)\n",
        "\n",
        "  4. d.shape = (5,)\n",
        "   \n",
        "</details>\n",
        "\n",
        "---"
      ],
      "metadata": {
        "id": "O5SCv1PY5_u_"
      }
    },
    {
      "cell_type": "markdown",
      "source": [
        "* shape의 길이는 dimention이라고 하며 이는 선형대수학의 dimention과는 개념이 다르다.\n",
        "* 벡터는 1차원, 행렬은 2차원이다.\n",
        "* ndim으로 확인"
      ],
      "metadata": {
        "id": "bpy2EgQsEs3S"
      }
    },
    {
      "cell_type": "code",
      "source": [
        "a = np.array([[1, 2, 3], [4, 5, 6]])\n",
        "a.ndim #len(a.shape) 과 같다."
      ],
      "metadata": {
        "colab": {
          "base_uri": "https://localhost:8080/"
        },
        "id": "tnZCWpl7EJQQ",
        "outputId": "82859503-fb48-47ba-cc1b-e04cb8564734"
      },
      "execution_count": 58,
      "outputs": [
        {
          "output_type": "execute_result",
          "data": {
            "text/plain": [
              "2"
            ]
          },
          "metadata": {},
          "execution_count": 58
        }
      ]
    },
    {
      "cell_type": "markdown",
      "source": [
        "* shape의 각 자리를 축(axis)이라고 한다.\n",
        "* 행렬은 2개의 축을 가지고 있다.\n",
        "* 축마다 번호가 있으며 앞에서부터 0번, 뒤에서부터 -1번이다.\n",
        "* 2차원 행렬의 경우 행의 axis=0, 열의 axis=1 이다. (shape 순서대로)\n",
        "* 예를 들어 sum은 덧셈 결과를 출력하는데, 여기서 축 번호를 지정할 수 있다."
      ],
      "metadata": {
        "id": "ESeWktxOFBmr"
      }
    },
    {
      "cell_type": "code",
      "source": [
        "a = np.array([[1, 2, 3], [4, 5, 6]])\n",
        "a.sum() #축 번호가 없으면 모든 원소를 더함"
      ],
      "metadata": {
        "colab": {
          "base_uri": "https://localhost:8080/"
        },
        "id": "vS8gZgPsFOfX",
        "outputId": "8a8dda4b-09af-4772-9762-cfc226cc9f17"
      },
      "execution_count": 59,
      "outputs": [
        {
          "output_type": "execute_result",
          "data": {
            "text/plain": [
              "21"
            ]
          },
          "metadata": {},
          "execution_count": 59
        }
      ]
    },
    {
      "cell_type": "code",
      "source": [
        "a.sum(axis=0) #0번축 방향으로 더함"
      ],
      "metadata": {
        "colab": {
          "base_uri": "https://localhost:8080/"
        },
        "id": "wQLvFDrbFSHb",
        "outputId": "c8b6398b-c446-4665-a6dd-3fdc3bdd9a88"
      },
      "execution_count": 60,
      "outputs": [
        {
          "output_type": "execute_result",
          "data": {
            "text/plain": [
              "array([5, 7, 9])"
            ]
          },
          "metadata": {},
          "execution_count": 60
        }
      ]
    },
    {
      "cell_type": "code",
      "source": [
        "a.sum(axis=1) #1번축 방향으로 더함"
      ],
      "metadata": {
        "colab": {
          "base_uri": "https://localhost:8080/"
        },
        "id": "Nw75Zu8TFU_1",
        "outputId": "5f958ea8-2656-4750-caae-219d91640142"
      },
      "execution_count": 61,
      "outputs": [
        {
          "output_type": "execute_result",
          "data": {
            "text/plain": [
              "array([ 6, 15])"
            ]
          },
          "metadata": {},
          "execution_count": 61
        }
      ]
    },
    {
      "cell_type": "code",
      "source": [
        "a.sum(axis=-1) #마지막 축 방향으로 더하는데, 여기서는 1과 같다."
      ],
      "metadata": {
        "colab": {
          "base_uri": "https://localhost:8080/"
        },
        "id": "bAlRd39DFkWe",
        "outputId": "6ad88f08-fcc7-42a6-aad2-8da32a65b889"
      },
      "execution_count": 62,
      "outputs": [
        {
          "output_type": "execute_result",
          "data": {
            "text/plain": [
              "array([ 6, 15])"
            ]
          },
          "metadata": {},
          "execution_count": 62
        }
      ]
    },
    {
      "cell_type": "markdown",
      "source": [
        "# reshape"
      ],
      "metadata": {
        "id": "jQM9Yl6qAl5Y"
      }
    },
    {
      "cell_type": "markdown",
      "source": [
        "* shape은 변경 가능\n",
        "* 원소의 개수는 변할 수 없음"
      ],
      "metadata": {
        "id": "vAx8D1Sv7BCm"
      }
    },
    {
      "cell_type": "code",
      "source": [
        "a = np.arange(6)\n",
        "a.reshape(2, 3)"
      ],
      "metadata": {
        "colab": {
          "base_uri": "https://localhost:8080/"
        },
        "id": "4smjh2GH7Mfu",
        "outputId": "a4e9413f-b291-40ea-e114-3c4283769538"
      },
      "execution_count": 44,
      "outputs": [
        {
          "output_type": "execute_result",
          "data": {
            "text/plain": [
              "array([[0, 1, 2],\n",
              "       [3, 4, 5]])"
            ]
          },
          "metadata": {},
          "execution_count": 44
        }
      ]
    },
    {
      "cell_type": "code",
      "source": [
        "a.reshape(3, 2)"
      ],
      "metadata": {
        "colab": {
          "base_uri": "https://localhost:8080/"
        },
        "id": "VZPSigKc7gmS",
        "outputId": "62ba7c27-96ea-4536-d95f-bcd562afed18"
      },
      "execution_count": 46,
      "outputs": [
        {
          "output_type": "execute_result",
          "data": {
            "text/plain": [
              "array([[0, 1],\n",
              "       [2, 3],\n",
              "       [4, 5]])"
            ]
          },
          "metadata": {},
          "execution_count": 46
        }
      ]
    },
    {
      "cell_type": "code",
      "source": [
        "b = a.reshape(6, 1)\n",
        "b"
      ],
      "metadata": {
        "colab": {
          "base_uri": "https://localhost:8080/"
        },
        "id": "jiLjEdv37iau",
        "outputId": "2b76173f-2caf-4018-e362-933bf9783555"
      },
      "execution_count": 47,
      "outputs": [
        {
          "output_type": "execute_result",
          "data": {
            "text/plain": [
              "array([[0],\n",
              "       [1],\n",
              "       [2],\n",
              "       [3],\n",
              "       [4],\n",
              "       [5]])"
            ]
          },
          "metadata": {},
          "execution_count": 47
        }
      ]
    },
    {
      "cell_type": "markdown",
      "source": [
        "---\n",
        "**Quiz**\n",
        "\n",
        "x1, x2에 들어갈 숫자는 무엇인가?\n",
        "```\n",
        "a = np.arange(10)\n",
        "b = a.reshape(5, x1)\n",
        "c = a.reshape(x2, 10, 1)\n",
        "```\n",
        "\n",
        "<details>\n",
        "  <summary>정답</summary>\n",
        "\n",
        "  1. x1 = 2\n",
        "   \n",
        "  2. x2 = 1\n",
        "   \n",
        "  원소의 개수를 10으로 만들어야 한다.\n",
        "</details>\n",
        "\n",
        "---"
      ],
      "metadata": {
        "id": "NYQAYJvd7llr"
      }
    },
    {
      "cell_type": "markdown",
      "source": [
        "* 원소의 크기가 같아야 한다는 조건 때문에 reshape에서 숫자 하나는 생략해도 되는데 이것을 **와일드카드**라고 한다.\n",
        "* 와일드 카드는 -1 로 표현\n",
        "* 하나만 사용할 수 있다."
      ],
      "metadata": {
        "id": "9vH7GW4y86Jk"
      }
    },
    {
      "cell_type": "code",
      "source": [
        "a = np.array([[1, 2, 3], [4, 5, 6]])\n",
        "a.reshape(-1, 2)"
      ],
      "metadata": {
        "colab": {
          "base_uri": "https://localhost:8080/"
        },
        "id": "EEsBMdDn9Pyo",
        "outputId": "a4abb7cb-010b-407e-d7b3-7dd2301f22b5"
      },
      "execution_count": 51,
      "outputs": [
        {
          "output_type": "execute_result",
          "data": {
            "text/plain": [
              "array([[1, 2],\n",
              "       [3, 4],\n",
              "       [5, 6]])"
            ]
          },
          "metadata": {},
          "execution_count": 51
        }
      ]
    },
    {
      "cell_type": "code",
      "source": [
        "a.reshape(-1)"
      ],
      "metadata": {
        "colab": {
          "base_uri": "https://localhost:8080/"
        },
        "id": "t-iis8Yl9b0M",
        "outputId": "52ee3abb-a9b7-4f11-a9d8-0c8871d8ebaa"
      },
      "execution_count": 52,
      "outputs": [
        {
          "output_type": "execute_result",
          "data": {
            "text/plain": [
              "array([1, 2, 3, 4, 5, 6])"
            ]
          },
          "metadata": {},
          "execution_count": 52
        }
      ]
    },
    {
      "cell_type": "markdown",
      "source": [
        "---\n",
        "**Quiz**\n",
        "\n",
        "다음에 나타난 배열 b, c, d 의 출력 결과는 무엇인가?\n",
        "```\n",
        "a = np.array([1, 2, 3, 4, 5, 6])\n",
        "b = a.reshape(3, 2)\n",
        "c = a.reshape(2, 3)\n",
        "d = b.reshape(2, 3)\n",
        "print(b)\n",
        "print(c)\n",
        "print(d)\n",
        "```\n",
        "\n",
        "<details>\n",
        "  <summary>정답</summary>\n",
        "\n",
        "  1. [[1, 2], [3, 4], [5, 6]]\n",
        "\n",
        "  2. [[1, 2, 3], [4, 5, 6]]\n",
        "\n",
        "  3. [[1, 2, 3], [4, 5, 6]]\n",
        "   * b.reshape(-1).reshape(-1, 3)으로 생각하면 쉽다.\n",
        "   * 원본 데이터가 [1, 2, 3, 4, 5, 6] 이라면 (2, 3)으로 reshape했을 때의 결과는 항상 똑같다. 예) a.reshape(-1).reshape(2, 3).reshape(3, 2).reshape(2, 3) 도 결과는 [[1, 2, 3], [4, 5, 6]]\n",
        "</details>\n",
        "\n",
        "\n",
        "**Quiz for Advandced**\n",
        "\n",
        "a로부터 ```[[1, 4], [2, 5], [3, 6]]``` 을 만들고 싶으면 어떻게 해야 할까?\n",
        "\n",
        "<details>\n",
        "  <summary>정답</summary>\n",
        "\n",
        "  1. transpose를 활용한다. 정답은 ```a.reshape(2, 3).transpose(1, 0)``` 이다.\n",
        "\n",
        "</details>\n",
        "\n",
        "---"
      ],
      "metadata": {
        "id": "Gt5fOpt8A4Ec"
      }
    },
    {
      "cell_type": "markdown",
      "source": [
        "# 원소에 대한 접근(인덱싱)"
      ],
      "metadata": {
        "id": "NrrzBoUyDIBu"
      }
    },
    {
      "cell_type": "markdown",
      "source": [
        "* 개별 원소에 접근하여 값을 꺼내오거나 수정할 수 있다.\n",
        "* 원소에 접근할 때는 튜플을 사용한다."
      ],
      "metadata": {
        "id": "9Y7exFX5DK_c"
      }
    },
    {
      "cell_type": "code",
      "source": [
        "a = np.array([1, 2, 3, 4, 5])\n",
        "a[1] = 10\n",
        "a"
      ],
      "metadata": {
        "colab": {
          "base_uri": "https://localhost:8080/"
        },
        "id": "NwbgA5YJDtja",
        "outputId": "e4936090-6635-42e1-bfd6-9cb46cca5038"
      },
      "execution_count": 64,
      "outputs": [
        {
          "output_type": "execute_result",
          "data": {
            "text/plain": [
              "array([ 1, 10,  3,  4,  5])"
            ]
          },
          "metadata": {},
          "execution_count": 64
        }
      ]
    },
    {
      "cell_type": "code",
      "source": [
        "a[0] + a[3]"
      ],
      "metadata": {
        "colab": {
          "base_uri": "https://localhost:8080/"
        },
        "id": "oi_8FZx6GDLu",
        "outputId": "4171d7eb-26be-4b0e-d5ef-f72a90da237a"
      },
      "execution_count": 65,
      "outputs": [
        {
          "output_type": "execute_result",
          "data": {
            "text/plain": [
              "5"
            ]
          },
          "metadata": {},
          "execution_count": 65
        }
      ]
    },
    {
      "cell_type": "code",
      "source": [
        "a = np.array([[1, 2, 3], [4, 5, 6]])\n",
        "a[(0, 2)] = 10\n",
        "a"
      ],
      "metadata": {
        "colab": {
          "base_uri": "https://localhost:8080/"
        },
        "id": "Nk4H3jVmD6MB",
        "outputId": "968d1d19-eebb-4b5c-9f7e-4b60b2ace8a4"
      },
      "execution_count": 72,
      "outputs": [
        {
          "output_type": "execute_result",
          "data": {
            "text/plain": [
              "array([[ 1,  2, 10],\n",
              "       [ 4,  5,  6]])"
            ]
          },
          "metadata": {},
          "execution_count": 72
        }
      ]
    },
    {
      "cell_type": "code",
      "source": [
        "#괄호는 생략 가능\n",
        "a[0, 2]"
      ],
      "metadata": {
        "colab": {
          "base_uri": "https://localhost:8080/"
        },
        "id": "2MpW59kEGKmU",
        "outputId": "c4f57122-1b52-427c-df8d-d7b8e2e36250"
      },
      "execution_count": 70,
      "outputs": [
        {
          "output_type": "execute_result",
          "data": {
            "text/plain": [
              "10"
            ]
          },
          "metadata": {},
          "execution_count": 70
        }
      ]
    },
    {
      "cell_type": "markdown",
      "source": [
        "* 정해진 크기를 벗어난 인덱싱은 오류\n",
        "* 자주 보는 오류 메시지이므로 기억해두면 좋음"
      ],
      "metadata": {
        "id": "EXgKB3_CGg6_"
      }
    },
    {
      "cell_type": "code",
      "source": [
        "a[0, 3] #에러 발생"
      ],
      "metadata": {
        "colab": {
          "base_uri": "https://localhost:8080/",
          "height": 165
        },
        "id": "u6U-li7aGgPg",
        "outputId": "7cf55f08-750c-4d59-9fbb-0f1b3d381e93"
      },
      "execution_count": 75,
      "outputs": [
        {
          "output_type": "error",
          "ename": "IndexError",
          "evalue": "ignored",
          "traceback": [
            "\u001b[0;31m---------------------------------------------------------------------------\u001b[0m",
            "\u001b[0;31mIndexError\u001b[0m                                Traceback (most recent call last)",
            "\u001b[0;32m<ipython-input-75-6e27834510f4>\u001b[0m in \u001b[0;36m<module>\u001b[0;34m()\u001b[0m\n\u001b[0;32m----> 1\u001b[0;31m \u001b[0ma\u001b[0m\u001b[0;34m[\u001b[0m\u001b[0;36m0\u001b[0m\u001b[0;34m,\u001b[0m \u001b[0;36m3\u001b[0m\u001b[0;34m]\u001b[0m\u001b[0;34m\u001b[0m\u001b[0;34m\u001b[0m\u001b[0m\n\u001b[0m",
            "\u001b[0;31mIndexError\u001b[0m: index 3 is out of bounds for axis 1 with size 3"
          ]
        }
      ]
    },
    {
      "cell_type": "markdown",
      "source": [
        "---\n",
        "**Quiz**\n",
        "\n",
        "다음 a의 shape은 무엇인가?\n",
        "```\n",
        "a = np.array([[[1, 2]], [[3, 4]]])\n",
        "print(a.shape)\n",
        "```\n",
        "이어서 다음과 같이 a를 수정할 경우 a의 값은 어떻게 되는가?\n",
        "```\n",
        "a[0, 0, 0] = 10\n",
        "a[1, 0, 0] = 20\n",
        "print(a)\n",
        "```\n",
        "\n",
        "<details>\n",
        "  <summary>정답</summary>\n",
        "\n",
        "  1. ```(2, 1, 2)```\n",
        "   * len(a), len(a[0]), len(a[0, 0])을 생각해본다.\n",
        "   \n",
        "  2. ```[[[10, 2]], [[20, 4]]]```\n",
        "   * a[0, 0, 0]은 1이고, a[1, 0, 0]은 3이다. 두 값이 10과 20으로 변경된다.\n",
        "</details>\n",
        "\n",
        "---"
      ],
      "metadata": {
        "id": "ykJkCF96HxO4"
      }
    },
    {
      "cell_type": "markdown",
      "source": [
        "# 부분 행렬 (슬라이싱)"
      ],
      "metadata": {
        "id": "uW9GQYodG7pk"
      }
    },
    {
      "cell_type": "markdown",
      "source": [
        "* 먼저 바닐라 리스트의 부분행렬을 기억해본다."
      ],
      "metadata": {
        "id": "TfXWUNDWHCDh"
      }
    },
    {
      "cell_type": "code",
      "source": [
        "a = [1, 2, 5, 10, 20]\n",
        "a[1:4] # a(i) for 1 <= i < 4"
      ],
      "metadata": {
        "colab": {
          "base_uri": "https://localhost:8080/"
        },
        "id": "BMABPAkuHHz2",
        "outputId": "3af01175-78ab-4788-b42c-7c463ec6887b"
      },
      "execution_count": 78,
      "outputs": [
        {
          "output_type": "execute_result",
          "data": {
            "text/plain": [
              "[2, 5, 10]"
            ]
          },
          "metadata": {},
          "execution_count": 78
        }
      ]
    },
    {
      "cell_type": "markdown",
      "source": [
        "* 넘파이도 똑같이 적용 가능"
      ],
      "metadata": {
        "id": "yRs1KKbZHO0H"
      }
    },
    {
      "cell_type": "code",
      "source": [
        "a = np.array([1, 2, 5, 10, 20])\n",
        "a[1:4]"
      ],
      "metadata": {
        "colab": {
          "base_uri": "https://localhost:8080/"
        },
        "id": "wqcVhHHxHNzL",
        "outputId": "eb2ff2ab-76f5-4b5b-836b-b6832d700637"
      },
      "execution_count": 79,
      "outputs": [
        {
          "output_type": "execute_result",
          "data": {
            "text/plain": [
              "array([ 2,  5, 10])"
            ]
          },
          "metadata": {},
          "execution_count": 79
        }
      ]
    },
    {
      "cell_type": "code",
      "source": [
        "a[1:4].shape"
      ],
      "metadata": {
        "colab": {
          "base_uri": "https://localhost:8080/"
        },
        "id": "4apfZTtlHlud",
        "outputId": "785130ec-7e1f-4fe5-d94c-07e459eadf21"
      },
      "execution_count": 80,
      "outputs": [
        {
          "output_type": "execute_result",
          "data": {
            "text/plain": [
              "(3,)"
            ]
          },
          "metadata": {},
          "execution_count": 80
        }
      ]
    },
    {
      "cell_type": "code",
      "source": [
        "a[:]"
      ],
      "metadata": {
        "colab": {
          "base_uri": "https://localhost:8080/"
        },
        "id": "eIIKJ1skJU0c",
        "outputId": "0e961ab2-9af0-4321-87ee-f2afe70e381c"
      },
      "execution_count": 81,
      "outputs": [
        {
          "output_type": "execute_result",
          "data": {
            "text/plain": [
              "array([ 1,  2,  5, 10, 20])"
            ]
          },
          "metadata": {},
          "execution_count": 81
        }
      ]
    },
    {
      "cell_type": "markdown",
      "source": [
        "* 2차원에 대해서도 동일하게 접근 가능하다."
      ],
      "metadata": {
        "id": "OypORKMBJWFh"
      }
    },
    {
      "cell_type": "code",
      "source": [
        "a = np.array([[1, 2, 3], [4, 5, 6], [7, 8, 9]])\n",
        "a"
      ],
      "metadata": {
        "colab": {
          "base_uri": "https://localhost:8080/"
        },
        "id": "y4ZgLkPKJQtW",
        "outputId": "1a9761df-ef7e-49c8-9c61-8af8bec8604e"
      },
      "execution_count": 140,
      "outputs": [
        {
          "output_type": "execute_result",
          "data": {
            "text/plain": [
              "array([[1, 2, 3],\n",
              "       [4, 5, 6],\n",
              "       [7, 8, 9]])"
            ]
          },
          "metadata": {},
          "execution_count": 140
        }
      ]
    },
    {
      "cell_type": "code",
      "source": [
        "a[:, :]"
      ],
      "metadata": {
        "colab": {
          "base_uri": "https://localhost:8080/"
        },
        "id": "kH8xPVDR5Yrm",
        "outputId": "4decdb9e-10f7-44fe-a0e1-1644fc294dcc"
      },
      "execution_count": 141,
      "outputs": [
        {
          "output_type": "execute_result",
          "data": {
            "text/plain": [
              "array([[1, 2, 3],\n",
              "       [4, 5, 6],\n",
              "       [7, 8, 9]])"
            ]
          },
          "metadata": {},
          "execution_count": 141
        }
      ]
    },
    {
      "cell_type": "code",
      "source": [
        "a[:2, 1:]\n",
        "# a[i, j] for i < 2 and 1 <= j\n",
        "# 조건에 만족하는 i는 0, 1,   j는 1, 2이다.\n",
        "# 즉 0행과 1행, 1열과 2열을 선택한다."
      ],
      "metadata": {
        "colab": {
          "base_uri": "https://localhost:8080/"
        },
        "id": "vhRrC8JsJguL",
        "outputId": "f155e1da-04bf-4544-c38c-9603fdd02307"
      },
      "execution_count": 88,
      "outputs": [
        {
          "output_type": "execute_result",
          "data": {
            "text/plain": [
              "array([[2, 3],\n",
              "       [5, 6]])"
            ]
          },
          "metadata": {},
          "execution_count": 88
        }
      ]
    },
    {
      "cell_type": "markdown",
      "source": [
        "---\n",
        "**Quiz**\n",
        "\n",
        "```a = np.array([[1, 2, 3], [4, 5, 6], [7, 8, 9]])```\n",
        "일 때 \n",
        "\n",
        "```[[1, 2, 3]]```를 얻으려면 어떻게 접근해야 하는가?\n",
        "\n",
        "<details>\n",
        "  <summary>정답</summary>\n",
        "  \n",
        "  1. ```a[0:1, :]```\n",
        "\n",
        "</details>\n",
        "\n",
        "**Quiz for Advanced**\n",
        "\n",
        "```[1, 2, 3]```를 얻으려면 어떻게 접근해야 하는가?\n",
        "\n",
        "<details>\n",
        "  <summary>정답</summary>\n",
        "  \n",
        "  1. ```a[0, :]```\n",
        "\n",
        "</details>\n",
        "\n",
        "* ```[[1, 2, 3]]```과 ```[1, 2, 3]```은 대충 비슷하다고 생각할 것이 아니라\n",
        "* 둘을 정확히 구분하고 원하는 결과를 얻어낼 줄 알아야 함\n",
        "---"
      ],
      "metadata": {
        "id": "lPF9kSLd3qJP"
      }
    },
    {
      "cell_type": "markdown",
      "source": [
        "* 바닐라 리스트에서 숫자를 넣어서 인덱싱하면 리스트가 벗겨진다.\n",
        "* 넘파이로 비유하면 축이 사라지는 효과를 얻는다."
      ],
      "metadata": {
        "id": "xd-ywdwP5nPB"
      }
    },
    {
      "cell_type": "code",
      "source": [
        "b = [1, 2, 3, 4, 5] #shape=(5,)\n",
        "b[0] #리스트 아님 #shape=()"
      ],
      "metadata": {
        "colab": {
          "base_uri": "https://localhost:8080/"
        },
        "id": "Qz5D1GfD6HOU",
        "outputId": "d298c953-fed1-40a6-9409-34670e328110"
      },
      "execution_count": 100,
      "outputs": [
        {
          "output_type": "execute_result",
          "data": {
            "text/plain": [
              "1"
            ]
          },
          "metadata": {},
          "execution_count": 100
        }
      ]
    },
    {
      "cell_type": "markdown",
      "source": [
        "* 반면 ':'을 사용하여 인덱싱하면 리스트 형태가 그대로 남는다."
      ],
      "metadata": {
        "id": "cOooVNmn76DN"
      }
    },
    {
      "cell_type": "code",
      "source": [
        "b[0:1] #원소가 단 하나여도 리스트 형태가 유지됨 #shape=(1,)"
      ],
      "metadata": {
        "colab": {
          "base_uri": "https://localhost:8080/"
        },
        "id": "zBdDjiwq6W-g",
        "outputId": "ec6498d0-e477-45b7-dc12-63a9db159835"
      },
      "execution_count": 101,
      "outputs": [
        {
          "output_type": "execute_result",
          "data": {
            "text/plain": [
              "[1]"
            ]
          },
          "metadata": {},
          "execution_count": 101
        }
      ]
    },
    {
      "cell_type": "code",
      "source": [
        "b = [[1, 2, 3], [4, 5, 6]] #shape=(2, 3)\n",
        "b[0] #shape=(3,)"
      ],
      "metadata": {
        "colab": {
          "base_uri": "https://localhost:8080/"
        },
        "id": "qpALZTFk-FAY",
        "outputId": "665ebbf3-f043-4fa5-b547-5b3da012b791"
      },
      "execution_count": 109,
      "outputs": [
        {
          "output_type": "execute_result",
          "data": {
            "text/plain": [
              "[1, 2, 3]"
            ]
          },
          "metadata": {},
          "execution_count": 109
        }
      ]
    },
    {
      "cell_type": "code",
      "source": [
        "b[:1] #shape=(1, 3)"
      ],
      "metadata": {
        "colab": {
          "base_uri": "https://localhost:8080/"
        },
        "id": "5Q88Y0Bh-PxA",
        "outputId": "f8518ba4-1d30-47e2-cd8d-a83bd42d1e4a"
      },
      "execution_count": 110,
      "outputs": [
        {
          "output_type": "execute_result",
          "data": {
            "text/plain": [
              "[[1, 2, 3]]"
            ]
          },
          "metadata": {},
          "execution_count": 110
        }
      ]
    },
    {
      "cell_type": "markdown",
      "source": [
        "* 넘파이의 경우 ':'을 사용(슬라이싱)하면 shape의 축이 그대로 유지된다. (크기가 줄어들더라도)\n",
        "* 숫자를 넣어서 인덱싱하면 축이 없어져버린다. (dim이 줄어든다)"
      ],
      "metadata": {
        "id": "I5sC1mtB9lFL"
      }
    },
    {
      "cell_type": "code",
      "source": [
        "a = np.array([[1, 2, 3], [4, 5, 6], [7, 8, 9]])\n",
        "a\n",
        "#shape = (3, 3) 이다. axis=0의 크기(행) = 3, axis=1의 크기(열) = 3"
      ],
      "metadata": {
        "colab": {
          "base_uri": "https://localhost:8080/"
        },
        "id": "wf-t-X5r5a6B",
        "outputId": "f0d98c85-7979-4d59-9953-94f7bc04ed5e"
      },
      "execution_count": 142,
      "outputs": [
        {
          "output_type": "execute_result",
          "data": {
            "text/plain": [
              "array([[1, 2, 3],\n",
              "       [4, 5, 6],\n",
              "       [7, 8, 9]])"
            ]
          },
          "metadata": {},
          "execution_count": 142
        }
      ]
    },
    {
      "cell_type": "code",
      "source": [
        "a[:, 2]\n",
        "#axis=0  : 을 사용했으므로 그대로 유지\n",
        "#axis=1  2 로 인덱싱했으므로 축이 없어짐\n",
        "#원래 크기 (3, 3)에서 axis=1 부분이 없어지고 (3,)만 남음"
      ],
      "metadata": {
        "colab": {
          "base_uri": "https://localhost:8080/"
        },
        "id": "_AsXwwhH4l5C",
        "outputId": "7afac7d5-95d6-4704-e444-127ad131b5fe"
      },
      "execution_count": 143,
      "outputs": [
        {
          "output_type": "execute_result",
          "data": {
            "text/plain": [
              "array([3, 6, 9])"
            ]
          },
          "metadata": {},
          "execution_count": 143
        }
      ]
    },
    {
      "cell_type": "code",
      "source": [
        "a[:, 2:]\n",
        "#axis=0  : 을 사용했으므로 그대로 유지\n",
        "#axis=1  2: 로 슬라이싱, 크기가 줄어듦\n",
        "#원래 크기 (3, 3)에서 axis=0은 그대로 유지되고 axis=1이 1로 줄어들면서 (3, 1)이 된다."
      ],
      "metadata": {
        "colab": {
          "base_uri": "https://localhost:8080/"
        },
        "id": "6oOGMIpA4pfU",
        "outputId": "da713dd5-6f7c-486d-a947-2454b6d6e6a0"
      },
      "execution_count": 103,
      "outputs": [
        {
          "output_type": "execute_result",
          "data": {
            "text/plain": [
              "array([[3],\n",
              "       [6],\n",
              "       [9]])"
            ]
          },
          "metadata": {},
          "execution_count": 103
        }
      ]
    },
    {
      "cell_type": "markdown",
      "source": [
        "---\n",
        "**Quiz**\n",
        "\n",
        "다음과 같이 행렬 a가 주어졌을 때,\n",
        "```\n",
        "a = np.arange(16).reshape(4, 4)\n",
        "print(a)\n",
        "```\n",
        "출력결과 다음과 같다.\n",
        "```\n",
        "[[ 0  1  2  3]\n",
        " [ 4  5  6  7]\n",
        " [ 8  9 10 11]\n",
        " [12 13 14 15]]\n",
        " ```\n",
        "\n",
        "다음 b, c, d, e의 값과 shape은 무엇인가?\n",
        "```\n",
        "b = a[:, 3:]\n",
        "c = a[2:4, :2]\n",
        "d = a[0, 3:]\n",
        "e = a[:, 2]\n",
        "print(b, b.shape)\n",
        "print(c, c.shape)\n",
        "print(d, d.shape)\n",
        "print(e, e.shape)\n",
        "```\n",
        "\n",
        "<details>\n",
        "  <summary>정답</summary>\n",
        "\n",
        "  1. b = [[3, 7, 11, 15]], b.shape = (1, 4)\n",
        "\n",
        "  2. c = [[8, 9], [12, 13]], c.shape = (2, 2)\n",
        "\n",
        "  3. d = [3] d.shape = (1,)\n",
        "   \n",
        "  4. e = [2, 6, 10, 14] d.shape = (4,)\n",
        "</details>\n",
        "\n",
        "부분행렬 ```[[2, 3], [6, 7]]```을 얻으려면 a에 어떻게 접근해야 하는가?\n",
        "\n",
        "부분행렬 ```[4, 5, 6, 7]```을 얻으려면 a에 어떻게 접근해야 하는가?\n",
        "\n",
        "<details>\n",
        "  <summary>정답</summary>\n",
        "\n",
        "  1. a[:2, 2:]\n",
        "\n",
        "  2. a[1]\n",
        "  \n",
        "</details>\n",
        "\n",
        "---"
      ],
      "metadata": {
        "id": "S4bn9mCY-wcW"
      }
    },
    {
      "cell_type": "markdown",
      "source": [
        "# 행렬을 리스트처럼"
      ],
      "metadata": {
        "id": "wCWclfJvBBws"
      }
    },
    {
      "cell_type": "markdown",
      "source": [
        "* 슬라이싱에서 뒤쪽에 오는 ':'은 생략 가능하다."
      ],
      "metadata": {
        "id": "Ytzm4VU9CREk"
      }
    },
    {
      "cell_type": "code",
      "source": [
        "a = np.arange(9).reshape(3, 3)\n",
        "a"
      ],
      "metadata": {
        "colab": {
          "base_uri": "https://localhost:8080/"
        },
        "id": "bHjWUkVR-v7o",
        "outputId": "aaa9b222-bc0b-4dac-ce69-b42791eabcca"
      },
      "execution_count": 119,
      "outputs": [
        {
          "output_type": "execute_result",
          "data": {
            "text/plain": [
              "array([[0, 1, 2],\n",
              "       [3, 4, 5],\n",
              "       [6, 7, 8]])"
            ]
          },
          "metadata": {},
          "execution_count": 119
        }
      ]
    },
    {
      "cell_type": "code",
      "source": [
        "a[1, :]"
      ],
      "metadata": {
        "colab": {
          "base_uri": "https://localhost:8080/"
        },
        "id": "F3TmGb8yCil2",
        "outputId": "9c88e1b5-8320-4226-f4a8-2e5d68b7766d"
      },
      "execution_count": 120,
      "outputs": [
        {
          "output_type": "execute_result",
          "data": {
            "text/plain": [
              "array([3, 4, 5])"
            ]
          },
          "metadata": {},
          "execution_count": 120
        }
      ]
    },
    {
      "cell_type": "code",
      "source": [
        "a[1]"
      ],
      "metadata": {
        "colab": {
          "base_uri": "https://localhost:8080/"
        },
        "id": "Xb8yI8YVCmNT",
        "outputId": "482df7ca-6add-4936-e92a-8e240e3bfe9f"
      },
      "execution_count": 121,
      "outputs": [
        {
          "output_type": "execute_result",
          "data": {
            "text/plain": [
              "array([3, 4, 5])"
            ]
          },
          "metadata": {},
          "execution_count": 121
        }
      ]
    },
    {
      "cell_type": "markdown",
      "source": [
        "* 이는 마치 바닐라 리스트를 다루는 것과 유사하다."
      ],
      "metadata": {
        "id": "Ix4CTi5sCwcj"
      }
    },
    {
      "cell_type": "code",
      "source": [
        "b = [[0, 1, 2], [3, 4, 5], [6, 7, 8]]\n",
        "b[1]"
      ],
      "metadata": {
        "colab": {
          "base_uri": "https://localhost:8080/"
        },
        "id": "ClEwPbQqC1Xx",
        "outputId": "ea2977eb-e73d-45dd-b481-9c470779de88"
      },
      "execution_count": 124,
      "outputs": [
        {
          "output_type": "execute_result",
          "data": {
            "text/plain": [
              "[3, 4, 5]"
            ]
          },
          "metadata": {},
          "execution_count": 124
        }
      ]
    },
    {
      "cell_type": "markdown",
      "source": [
        "* 넘파이의 xis=0축은 원소의 개수, 나머지는 개별 원소의 크기로 취급\n",
        "* 예) (4, 3, 2) 크기의 배열은 (3, 2) 크기의 배열이 4개 있는 리스트"
      ],
      "metadata": {
        "id": "r55UCZnKK6yb"
      }
    },
    {
      "cell_type": "code",
      "source": [
        "# (3, 2) 크기의 배열\n",
        "a = np.array([[1, 2], [3, 4], [5, 6]])\n",
        "# (2,) 크기의 배열을 3개 가지고 있는 리스트\n",
        "b = [np.array([1, 2]), np.array([3, 4]), np.array([5, 6])]\n",
        "\n",
        "# 위의 둘은 물론 엄격히 다른 것이지만\n",
        "# a를 b처럼 생각하고 다뤄도 된다."
      ],
      "metadata": {
        "id": "HarwKnrYIvN_"
      },
      "execution_count": 129,
      "outputs": []
    },
    {
      "cell_type": "markdown",
      "source": [
        "* 넘파이 배열은 리스트가 가지고 있는 모든 기능을 다 가지고 있음"
      ],
      "metadata": {
        "id": "BEgSxk2sLs7H"
      }
    },
    {
      "cell_type": "code",
      "source": [
        "# (3, 2) 크기의 원소를 4개 가지고 있음\n",
        "a = np.arange(24).reshape(4, 3, 2)\n",
        "len(a)"
      ],
      "metadata": {
        "colab": {
          "base_uri": "https://localhost:8080/"
        },
        "id": "mrZXpJ9JJDLH",
        "outputId": "606b6528-5607-49a3-8a7e-d7fbcba8fd62"
      },
      "execution_count": 130,
      "outputs": [
        {
          "output_type": "execute_result",
          "data": {
            "text/plain": [
              "4"
            ]
          },
          "metadata": {},
          "execution_count": 130
        }
      ]
    },
    {
      "cell_type": "code",
      "source": [
        "#반복문도 돌릴 수 있다.\n",
        "for v in a:\n",
        "    print(v.shape)"
      ],
      "metadata": {
        "colab": {
          "base_uri": "https://localhost:8080/"
        },
        "id": "FURs5io5JJfh",
        "outputId": "27d80de4-f445-455c-cba9-1b71c55e62cd"
      },
      "execution_count": 133,
      "outputs": [
        {
          "output_type": "stream",
          "name": "stdout",
          "text": [
            "(3, 2)\n",
            "(3, 2)\n",
            "(3, 2)\n",
            "(3, 2)\n"
          ]
        }
      ]
    },
    {
      "cell_type": "code",
      "source": [
        "#a의 0번째 원소\n",
        "a[0]"
      ],
      "metadata": {
        "colab": {
          "base_uri": "https://localhost:8080/"
        },
        "id": "Kt7jcswYQQBU",
        "outputId": "c4c9eea2-3d9a-46b3-ea53-4a17a1732218"
      },
      "execution_count": 134,
      "outputs": [
        {
          "output_type": "execute_result",
          "data": {
            "text/plain": [
              "array([[0, 1],\n",
              "       [2, 3],\n",
              "       [4, 5]])"
            ]
          },
          "metadata": {},
          "execution_count": 134
        }
      ]
    },
    {
      "cell_type": "code",
      "source": [
        "#는 사실 뒤에 :을 생략한 것이라고 여겨도 된다.\n",
        "a[0, :, :]"
      ],
      "metadata": {
        "colab": {
          "base_uri": "https://localhost:8080/"
        },
        "id": "qKFnd9GEQSnd",
        "outputId": "b87a1aa2-4f9f-43c3-9f43-68a7dca68ed6"
      },
      "execution_count": 135,
      "outputs": [
        {
          "output_type": "execute_result",
          "data": {
            "text/plain": [
              "array([[0, 1],\n",
              "       [2, 3],\n",
              "       [4, 5]])"
            ]
          },
          "metadata": {},
          "execution_count": 135
        }
      ]
    },
    {
      "cell_type": "markdown",
      "source": [
        "---\n",
        "**Quiz**\n",
        "\n",
        "다음 b, c, d의 shape을 구하시오.\n",
        "```\n",
        "a = np.arange(6).reshape(3, 2, 1)\n",
        "b = a[0]\n",
        "c = a[:2, 0]\n",
        "d = a[0, :, 0]\n",
        "print(b.shape)\n",
        "print(c.shape)\n",
        "print(d.shape)\n",
        "```\n",
        "\n",
        "<details>\n",
        "  <summary>정답</summary>\n",
        "\n",
        "  1. b.shape = (2, 1)\n",
        "   * ```a[0] == a[0, :, :]``` 이다. (3, 2, 1)의 shape에서 axis=0이 없어지면 (2, 1)만 남는다.\n",
        "   * 또는 (2, 1) 크기의 원소가 3개 있는 리스트로 생각했을 때, 0번째 원소를 꺼내면 그 크기는 (2, 1)이다.\n",
        "\n",
        "  2. c.shape = (2, 1)\n",
        "    * ```a[:2, 0] == a[:2, 0, :]``` 이다. 원래 크기 (3, 2, 1)에서 axis=0의 크기는 2로 줄어든다. axis=1은 인덱싱으로 사라진다. axis=2의 크기는 1이므로 최종 크기는 (2, 1)이다.\n",
        "\n",
        "  3. d.shape = (2,)\n",
        "    * axis=0과 axis=2가 인덱싱으로 사라지고 axis=1만 남는다.\n",
        "</details>\n",
        "---"
      ],
      "metadata": {
        "id": "1ubVdskzuvVC"
      }
    }
  ]
}
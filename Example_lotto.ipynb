{
  "nbformat": 4,
  "nbformat_minor": 0,
  "metadata": {
    "accelerator": "GPU",
    "colab": {
      "name": "Example - lotto.ipynb",
      "provenance": [],
      "collapsed_sections": [
        "y2pO3xpH5d69"
      ],
      "authorship_tag": "ABX9TyOTqAOu4JjNTLSG/0JlpUqv",
      "include_colab_link": true
    },
    "kernelspec": {
      "display_name": "Python 3",
      "name": "python3"
    },
    "language_info": {
      "name": "python"
    }
  },
  "cells": [
    {
      "cell_type": "markdown",
      "metadata": {
        "id": "view-in-github",
        "colab_type": "text"
      },
      "source": [
        "<a href=\"https://colab.research.google.com/github/ladofa/edu/blob/master/Example_lotto.ipynb\" target=\"_parent\"><img src=\"https://colab.research.google.com/assets/colab-badge.svg\" alt=\"Open In Colab\"/></a>"
      ]
    },
    {
      "cell_type": "markdown",
      "metadata": {
        "id": "y2pO3xpH5d69"
      },
      "source": [
        "# 개요\n",
        " - 1회차부터 현재까지 로또 번호를 알고 있으면 그 다음 로또 번호를 예측할 수 있는 시스템을 딥러닝으로 구현\n",
        " - 입력 : 현재까지의 로또 번호\n",
        "   * shape : (N, t, 45 * 2)\n",
        "   * 메인 번호와 보너스 번호 두 개의 채널로 구성\n",
        "   * 메인 번호 : one hot 인코딩 비슷하게 주요 6개 숫자는 1 나머지는 0\n",
        "   * 보너스 번호 : one hot 인코딩\n",
        " - 출력 : 다음 로또 번호\n",
        "   * 6개의 메인 번호, 1개의 보너스 번호\n",
        "   * 메인 번호(main) : (N, 45), 당첨번호 1, 그 외 0 (binary_crossentropy)\n",
        "   * 보너스 번호(sub) : (N, 45), softmax (sparse_categorical_crossentropy)"
      ]
    },
    {
      "cell_type": "code",
      "metadata": {
        "id": "jm9Y6FKgyU4S"
      },
      "source": [
        "import numpy as np\n",
        "import tensorflow as tf\n",
        "from tensorflow import keras"
      ],
      "execution_count": 1,
      "outputs": []
    },
    {
      "cell_type": "markdown",
      "metadata": {
        "id": "NEoPs5IhIXTJ"
      },
      "source": [
        "# Stateful LSTM 선행학습"
      ]
    },
    {
      "cell_type": "code",
      "metadata": {
        "id": "Tf0MjqdV9P1Z"
      },
      "source": [
        "model = keras.models.Sequential([\n",
        "    keras.layers.LSTM(10, return_sequences=True, stateful=True, batch_input_shape=[1, None, 1]),\n",
        "    keras.layers.LSTM(10, stateful=True),\n",
        "    keras.layers.Dense(1)\n",
        "])"
      ],
      "execution_count": 2,
      "outputs": []
    },
    {
      "cell_type": "code",
      "metadata": {
        "colab": {
          "base_uri": "https://localhost:8080/"
        },
        "id": "ViA1HoJ99qm2",
        "outputId": "3d81a7ec-07c4-403c-88b7-4fd273e4823e"
      },
      "source": [
        "model.compile('nadam', 'mse')\n",
        "sample = np.arange(9).reshape(1, 9, 1)\n",
        "\n",
        "\n",
        "for epoch in range(1000):\n",
        "    for layer in model.layers[:-1]:\n",
        "        layer.reset_states()\n",
        "    total_loss = 0\n",
        "    for i in range(8):\n",
        "        x = sample[:, i:i+1, :]\n",
        "        i2 = i + 1\n",
        "        y = sample[:, i2:i2+1, :]\n",
        "        loss = model.train_on_batch(x, y)\n",
        "        total_loss += loss\n",
        "    if epoch % 100 == 0:\n",
        "        print(epoch, total_loss)\n",
        "\n",
        "# do not run\n",
        "# model.fit(sample[:, :8, :], sample[:, 1:, :], epochs=100)\n"
      ],
      "execution_count": 3,
      "outputs": [
        {
          "output_type": "stream",
          "name": "stdout",
          "text": [
            "0 210.7184820175171\n",
            "100 3.9147999100387096\n",
            "200 0.1783169927784911\n",
            "300 0.17014859741402688\n",
            "400 0.08715382154332474\n",
            "500 0.09522466907310445\n",
            "600 0.05914029003815813\n",
            "700 0.049783330040554574\n",
            "800 0.043782850396382855\n",
            "900 0.038815279644040857\n"
          ]
        }
      ]
    },
    {
      "cell_type": "code",
      "metadata": {
        "colab": {
          "base_uri": "https://localhost:8080/"
        },
        "id": "T2CL0Qs99qjs",
        "outputId": "e36d1ca2-9532-42d5-8049-e5e29a0115e4"
      },
      "source": [
        "for layer in model.layers[:-1]:\n",
        "    layer.reset_states()\n",
        "for i in range(8):\n",
        "    print(model(sample[:, i:i+1, :]))"
      ],
      "execution_count": 4,
      "outputs": [
        {
          "output_type": "stream",
          "name": "stdout",
          "text": [
            "tf.Tensor([[1.0089418]], shape=(1, 1), dtype=float32)\n",
            "tf.Tensor([[2.0095718]], shape=(1, 1), dtype=float32)\n",
            "tf.Tensor([[3.0610096]], shape=(1, 1), dtype=float32)\n",
            "tf.Tensor([[4.059567]], shape=(1, 1), dtype=float32)\n",
            "tf.Tensor([[5.079951]], shape=(1, 1), dtype=float32)\n",
            "tf.Tensor([[6.0963693]], shape=(1, 1), dtype=float32)\n",
            "tf.Tensor([[7.06233]], shape=(1, 1), dtype=float32)\n",
            "tf.Tensor([[8.050302]], shape=(1, 1), dtype=float32)\n"
          ]
        }
      ]
    },
    {
      "cell_type": "code",
      "metadata": {
        "colab": {
          "base_uri": "https://localhost:8080/"
        },
        "id": "cgUKph39BaxU",
        "outputId": "a9659c62-295b-46f2-c3bd-9bb16b513ff5"
      },
      "source": [
        "for i in range(8):\n",
        "    print(model(sample[:, i:i+1, :]))"
      ],
      "execution_count": 5,
      "outputs": [
        {
          "output_type": "stream",
          "name": "stdout",
          "text": [
            "tf.Tensor([[8.073675]], shape=(1, 1), dtype=float32)\n",
            "tf.Tensor([[7.7889504]], shape=(1, 1), dtype=float32)\n",
            "tf.Tensor([[7.5429497]], shape=(1, 1), dtype=float32)\n",
            "tf.Tensor([[7.3707404]], shape=(1, 1), dtype=float32)\n",
            "tf.Tensor([[7.3045745]], shape=(1, 1), dtype=float32)\n",
            "tf.Tensor([[7.3486443]], shape=(1, 1), dtype=float32)\n",
            "tf.Tensor([[7.509231]], shape=(1, 1), dtype=float32)\n",
            "tf.Tensor([[7.9287033]], shape=(1, 1), dtype=float32)\n"
          ]
        }
      ]
    },
    {
      "cell_type": "code",
      "metadata": {
        "id": "-rmn65zkBkXu"
      },
      "source": [
        "for layer in model.layers[:-1]:\n",
        "    layer.stateful = False"
      ],
      "execution_count": 6,
      "outputs": []
    },
    {
      "cell_type": "code",
      "metadata": {
        "colab": {
          "base_uri": "https://localhost:8080/"
        },
        "id": "55Kh_yQlBtPC",
        "outputId": "75b79b93-53f1-4cdb-beab-55ddf9ebdfc4"
      },
      "source": [
        "model(sample[:, 0:3, :])"
      ],
      "execution_count": 7,
      "outputs": [
        {
          "output_type": "execute_result",
          "data": {
            "text/plain": [
              "<tf.Tensor: shape=(1, 1), dtype=float32, numpy=array([[3.0610094]], dtype=float32)>"
            ]
          },
          "metadata": {},
          "execution_count": 7
        }
      ]
    },
    {
      "cell_type": "code",
      "metadata": {
        "colab": {
          "base_uri": "https://localhost:8080/"
        },
        "id": "ap0jpCEQFZOC",
        "outputId": "b60b7cac-ecf3-4954-af32-b773291b2fd6"
      },
      "source": [
        "model.summary()"
      ],
      "execution_count": 8,
      "outputs": [
        {
          "output_type": "stream",
          "name": "stdout",
          "text": [
            "Model: \"sequential\"\n",
            "_________________________________________________________________\n",
            " Layer (type)                Output Shape              Param #   \n",
            "=================================================================\n",
            " lstm (LSTM)                 (1, None, 10)             480       \n",
            "                                                                 \n",
            " lstm_1 (LSTM)               (1, 10)                   840       \n",
            "                                                                 \n",
            " dense (Dense)               (1, 1)                    11        \n",
            "                                                                 \n",
            "=================================================================\n",
            "Total params: 1,331\n",
            "Trainable params: 1,331\n",
            "Non-trainable params: 0\n",
            "_________________________________________________________________\n"
          ]
        }
      ]
    },
    {
      "cell_type": "markdown",
      "metadata": {
        "id": "N0N4tAbkvxZC"
      },
      "source": [
        "# 데이터 준비\n"
      ]
    },
    {
      "cell_type": "markdown",
      "metadata": {
        "id": "dodvAmLc1sli"
      },
      "source": [
        "## lotto 사이트에서 데이터 받아오기\n",
        "\n",
        "https://dhlottery.co.kr/gameResult.do?method=byWin 에서 데이터를 받는다. 받은 데이터를 xlsx 형태로 변환한다.\n",
        "\n",
        "최종적으로 ndarray로 저장"
      ]
    },
    {
      "cell_type": "code",
      "metadata": {
        "id": "KTQQZtD1uN4n"
      },
      "source": [
        "import openpyxl\n",
        "#참고 : https://openpyxl.readthedocs.io/en/stable/tutorial.html\n",
        "\n",
        "xlsx = openpyxl.load_workbook('lotto.xlsx')\n",
        "ws = xlsx['excel']\n",
        "cells = ws['n4':'t994']\n",
        "\n",
        "values = [[x.value for x in row] for row in cells]\n",
        "\n",
        "data = np.array(values) - 1 #모든 숫자는 0부터 44\n",
        "t_max = data.shape[0]"
      ],
      "execution_count": 9,
      "outputs": []
    },
    {
      "cell_type": "markdown",
      "metadata": {
        "id": "vozZlpmp16Ot"
      },
      "source": [
        "## 학습에 맞게 변환\n",
        "주요 당첨 번호는 data_main으로, 보너스는 data_sub로 바꾼다. data_main은 one hot 인코딩과 유사하게 정답은 1, 오답은 0으로 하여 binary_crossentropy 로 계산한다. 보너스는 평범한 classifier 문제로 생각하여 label을 그대로 저장한다."
      ]
    },
    {
      "cell_type": "code",
      "metadata": {
        "id": "veykk0yZ152d"
      },
      "source": [
        "coord_x = data.copy()\n",
        "coord_x[:, 6] += 45\n",
        "coord_x = coord_x.reshape(-1)\n",
        "coord_y = np.arange(t_max).repeat(7)\n",
        "coding_data = np.zeros((t_max, 45*2), dtype=np.uint8)\n",
        "coding_data[coord_y, coord_x] = 1\n",
        "\n",
        "x_train = coding_data[None, :-1]\n",
        "y_train_main = coding_data[None, 1:, :45]\n",
        "y_train_sub = data[None, 1:, 6]"
      ],
      "execution_count": 10,
      "outputs": []
    },
    {
      "cell_type": "markdown",
      "metadata": {
        "id": "jFBh7UjF285x"
      },
      "source": [
        "제대로 변환했는지 확인"
      ]
    },
    {
      "cell_type": "code",
      "metadata": {
        "colab": {
          "base_uri": "https://localhost:8080/"
        },
        "id": "LAGGeYcYyRyP",
        "outputId": "d6dc0670-0e46-4be8-c6a4-84fd6c18306d"
      },
      "source": [
        "sample = coding_data[0]\n",
        "np.where(sample == 1)[0]"
      ],
      "execution_count": 11,
      "outputs": [
        {
          "output_type": "execute_result",
          "data": {
            "text/plain": [
              "array([12, 17, 24, 30, 32, 43, 82])"
            ]
          },
          "metadata": {},
          "execution_count": 11
        }
      ]
    },
    {
      "cell_type": "markdown",
      "metadata": {
        "id": "GLB_TldcNCFo"
      },
      "source": [
        "# 모델 설계"
      ]
    },
    {
      "cell_type": "code",
      "metadata": {
        "id": "iTTE3ZxneAoH"
      },
      "source": [
        "def top6_accuracy(y_true, y_pred):\n",
        "    t1 = tf.math.top_k(y_pred,k=6)[1]\n",
        "    t2 = tf.math.top_k(y_true,k=6)[1]\n",
        "    s = tf.sparse.to_dense(tf.sets.intersection(t1, t2))\n",
        "    acc_main = tf.shape(s)[-1]\n",
        "    return acc_main"
      ],
      "execution_count": 12,
      "outputs": []
    },
    {
      "cell_type": "code",
      "metadata": {
        "id": "xiWAU7DQNBhW"
      },
      "source": [
        "model_lstm = keras.models.Sequential([\n",
        "    keras.layers.LSTM(64, return_sequences=True, stateful=True, batch_input_shape=[1, None, 45*2]),\n",
        "    keras.layers.LSTM(64, return_sequences=True, stateful=True),\n",
        "    keras.layers.LSTM(64, stateful=True),\n",
        "])\n",
        "\n",
        "out_main = keras.layers.Dense(45, 'sigmoid')(model_lstm.output)\n",
        "out_sub = keras.layers.Dense(45, 'softmax')(model_lstm.output)\n",
        "\n",
        "model = keras.models.Model(model_lstm.input, [out_main, out_sub])\n",
        "rate_main = 10\n",
        "rate_sub = 1\n",
        "model.compile('nadam', ['binary_crossentropy', 'sparse_categorical_crossentropy'],\n",
        "              loss_weights=[rate_main, rate_sub], metrics=([top6_accuracy], ['accuracy']))"
      ],
      "execution_count": 13,
      "outputs": []
    },
    {
      "cell_type": "code",
      "metadata": {
        "colab": {
          "base_uri": "https://localhost:8080/"
        },
        "id": "DMUHDVR8vSYa",
        "outputId": "75ecba99-3a86-4ec3-b822-8f5a09ee1b1d"
      },
      "source": [
        "history = []\n",
        "\n",
        "for epoch in range(30):\n",
        "    for layer in model_lstm.layers:\n",
        "        layer.reset_states()\n",
        "\n",
        "    #초반 100회차 정도 쌓여야 예측이 가능하다고 가정\n",
        "    model(x_train[:, :100])\n",
        "    train_loss = []\n",
        "\n",
        "    #후반 50개를 validation 데이터로 사용\n",
        "    for i in range(100, len(x_train[0]) - 50):\n",
        "        loss = model.train_on_batch(x_train[:, i:i+1], (y_train_main[:, i], y_train_sub[:, i]))\n",
        "        train_loss.append(loss)\n",
        "    train_loss = np.array(train_loss).mean(axis=0)\n",
        "    print(epoch, train_loss.round(3))\n",
        "\n",
        "    valid_loss = []\n",
        "    for i in range(len(x_train[0]) - 50, len(x_train[0])):\n",
        "        \n",
        "        y_pred = model(x_train[:, i:i+1])\n",
        "        y_true_main = y_train_main[:, i]\n",
        "        y_true_sub = y_train_sub[:, i]\n",
        "        loss_main = tf.reduce_mean(tf.losses.binary_crossentropy(y_true_main, y_pred[0]))\n",
        "        loss_sub = tf.reduce_mean(tf.losses.sparse_categorical_crossentropy(y_true_sub, y_pred[1]))\n",
        "        loss = rate_main * loss_main + rate_sub * loss_sub\n",
        "        acc_main = top6_accuracy(y_true_main, y_pred[0])\n",
        "        acc_sub = tf.reduce_mean(keras.metrics.sparse_categorical_accuracy(y_true_sub, y_pred[1]))\n",
        "        valid_loss.append([loss, loss_main, loss_sub, acc_main, acc_sub])\n",
        "        # loss = model.evaluate(x_train[:, i:i+1])\n",
        "        # valid_loss.append(loss)\n",
        "    valid_loss = np.array(valid_loss).mean(axis=0)\n",
        "    print(epoch, '                                        ', valid_loss.round(3))\n",
        "\n",
        "    history.append([train_loss, valid_loss])\n"
      ],
      "execution_count": 14,
      "outputs": [
        {
          "output_type": "stream",
          "name": "stdout",
          "text": [
            "0 [7.981 0.405 3.934 0.801 0.027]\n",
            "0                                          [7.74  0.397 3.769 0.62  0.1  ]\n",
            "1 [7.795 0.395 3.849 0.807 0.03 ]\n",
            "1                                          [7.76  0.397 3.792 0.6   0.1  ]\n",
            "2 [7.785 0.394 3.842 0.813 0.029]\n",
            "2                                          [7.759 0.396 3.794 0.6   0.   ]\n",
            "3 [7.778 0.394 3.836 0.82  0.029]\n",
            "3                                          [7.758 0.396 3.795 0.6   0.   ]\n",
            "4 [7.765 0.394 3.827 0.83  0.03 ]\n",
            "4                                          [7.762 0.396 3.797 0.58  0.   ]\n",
            "5 [7.745 0.393 3.811 0.861 0.033]\n",
            "5                                          [7.78  0.397 3.808 0.56  0.06 ]\n",
            "6 [7.704 0.393 3.775 0.915 0.046]\n",
            "6                                          [7.758 0.397 3.786 0.68  0.   ]\n",
            "7 [7.617 0.392 3.696 0.952 0.056]\n",
            "7                                          [7.772 0.398 3.79  0.64  0.   ]\n",
            "8 [7.479 0.391 3.57  1.017 0.07 ]\n",
            "8                                          [7.805 0.399 3.81  0.7   0.04 ]\n",
            "9 [7.308 0.39  3.413 1.077 0.102]\n",
            "9                                          [7.903 0.402 3.887 0.7   0.   ]\n",
            "10 [7.08  0.388 3.203 1.155 0.148]\n",
            "10                                          [8.054 0.405 4.002 0.58  0.   ]\n",
            "11 [6.82  0.386 2.957 1.202 0.202]\n",
            "11                                          [8.278 0.409 4.189 0.7   0.02 ]\n",
            "12 [6.535 0.385 2.684 1.295 0.281]\n",
            "12                                          [8.584 0.412 4.46  0.62  0.   ]\n",
            "13 [6.244 0.384 2.407 1.329 0.358]\n",
            "13                                          [8.706 0.413 4.575 0.56  0.02 ]\n",
            "14 [5.95  0.382 2.127 1.351 0.437]\n",
            "14                                          [8.92  0.413 4.787 0.5   0.   ]\n",
            "15 [5.659 0.381 1.85  1.406 0.537]\n",
            "15                                          [9.204 0.415 5.053 0.58  0.02 ]\n",
            "16 [5.386 0.379 1.591 1.433 0.62 ]\n",
            "16                                          [9.496 0.416 5.336 0.66  0.02 ]\n",
            "17 [5.111 0.378 1.328 1.477 0.705]\n",
            "17                                          [9.765 0.416 5.603 0.66  0.02 ]\n",
            "18 [4.887 0.377 1.12  1.501 0.757]\n",
            "18                                          [10.209  0.414  6.073  0.64   0.   ]\n",
            "19 [4.696 0.376 0.939 1.56  0.815]\n",
            "19                                          [10.499  0.414  6.363  0.68   0.02 ]\n",
            "20 [4.516 0.373 0.782 1.589 0.864]\n",
            "20                                          [10.866  0.415  6.721  0.62   0.02 ]\n",
            "21 [4.347 0.372 0.628 1.667 0.895]\n",
            "21                                          [11.334  0.413  7.2    0.8    0.   ]\n",
            "22 [4.173 0.369 0.484 1.708 0.931]\n",
            "22                                          [11.586  0.413  7.459  0.8    0.   ]\n",
            "23 [4.051 0.365 0.398 1.792 0.948]\n",
            "23                                          [11.678  0.414  7.542  0.8    0.   ]\n",
            "24 [3.929 0.363 0.298 1.864 0.971]\n",
            "24                                          [12.365  0.415  8.213  0.7    0.   ]\n",
            "25 [3.798 0.358 0.223 1.94  0.986]\n",
            "25                                          [12.476  0.417  8.305  0.76   0.04 ]\n",
            "26 [3.727 0.353 0.196 2.044 0.986]\n",
            "26                                          [12.646  0.421  8.432  0.78   0.   ]\n",
            "27 [3.769 0.351 0.254 2.055 0.961]\n",
            "27                                          [13.07   0.425  8.821  0.78   0.02 ]\n",
            "28 [3.634 0.346 0.171 2.204 0.986]\n",
            "28                                          [12.981  0.427  8.716  0.76   0.02 ]\n",
            "29 [3.508 0.34  0.111 2.312 0.995]\n",
            "29                                          [13.512  0.433  9.178  0.64   0.02 ]\n"
          ]
        }
      ]
    },
    {
      "cell_type": "code",
      "metadata": {
        "id": "K3lTk2vqryG4",
        "colab": {
          "base_uri": "https://localhost:8080/"
        },
        "outputId": "a6307889-d337-4267-ed5d-9b272d94ca06"
      },
      "source": [
        "y_train_main[:, 0].shape"
      ],
      "execution_count": 15,
      "outputs": [
        {
          "output_type": "execute_result",
          "data": {
            "text/plain": [
              "(1, 45)"
            ]
          },
          "metadata": {},
          "execution_count": 15
        }
      ]
    },
    {
      "cell_type": "code",
      "metadata": {
        "id": "XMQAW8KSqVp4"
      },
      "source": [
        "for layer in model_lstm.layers:\n",
        "        layer.reset_states()\n",
        "\n",
        "y_pred = model(coding_data[None])\n"
      ],
      "execution_count": 16,
      "outputs": []
    },
    {
      "cell_type": "code",
      "metadata": {
        "colab": {
          "base_uri": "https://localhost:8080/"
        },
        "id": "Kv9MwIosqsa0",
        "outputId": "6e659cb8-7e8c-4311-9c7e-c8241ad432cd"
      },
      "source": [
        "y_pred[0][0].numpy().argsort()"
      ],
      "execution_count": 17,
      "outputs": [
        {
          "output_type": "execute_result",
          "data": {
            "text/plain": [
              "array([ 5,  9, 27, 15,  8, 37, 29, 14,  2, 12, 10, 18, 40, 35, 21, 25, 42,\n",
              "       32,  0, 26, 22, 38, 33, 41, 30, 24,  3, 23,  6, 20, 31, 44, 39, 36,\n",
              "       11, 28, 17,  1,  7, 13, 19, 34, 16, 43,  4])"
            ]
          },
          "metadata": {},
          "execution_count": 17
        }
      ]
    },
    {
      "cell_type": "code",
      "metadata": {
        "colab": {
          "base_uri": "https://localhost:8080/"
        },
        "id": "6uzBuYQN-zPZ",
        "outputId": "0237e13c-732d-4319-a6f4-5034ce406a65"
      },
      "source": [
        "main = y_pred[0][0].numpy()\n",
        "main.argsort() + 1"
      ],
      "execution_count": 18,
      "outputs": [
        {
          "output_type": "execute_result",
          "data": {
            "text/plain": [
              "array([ 6, 10, 28, 16,  9, 38, 30, 15,  3, 13, 11, 19, 41, 36, 22, 26, 43,\n",
              "       33,  1, 27, 23, 39, 34, 42, 31, 25,  4, 24,  7, 21, 32, 45, 40, 37,\n",
              "       12, 29, 18,  2,  8, 14, 20, 35, 17, 44,  5])"
            ]
          },
          "metadata": {},
          "execution_count": 18
        }
      ]
    },
    {
      "cell_type": "code",
      "metadata": {
        "colab": {
          "base_uri": "https://localhost:8080/"
        },
        "id": "ru5qsCMa_ksN",
        "outputId": "b820b10c-7437-451d-c45c-9ee03fb60374"
      },
      "source": [
        "for layer in model_lstm.layers:\n",
        "        layer.reset_states()\n",
        "\n",
        "y_pred = model(coding_data[None])\n",
        "main = y_pred[0][0].numpy()\n",
        "main.argsort() + 1"
      ],
      "execution_count": 19,
      "outputs": [
        {
          "output_type": "execute_result",
          "data": {
            "text/plain": [
              "array([ 6, 10, 28, 16,  9, 38, 30, 15,  3, 13, 11, 19, 41, 36, 22, 26, 43,\n",
              "       33,  1, 27, 23, 39, 34, 42, 31, 25,  4, 24,  7, 21, 32, 45, 40, 37,\n",
              "       12, 29, 18,  2,  8, 14, 20, 35, 17, 44,  5])"
            ]
          },
          "metadata": {},
          "execution_count": 19
        }
      ]
    },
    {
      "cell_type": "code",
      "metadata": {
        "colab": {
          "base_uri": "https://localhost:8080/"
        },
        "id": "76AFsjly_7d6",
        "outputId": "d2bb756a-66df-4671-8b9e-5559c8116863"
      },
      "source": [
        "y_pred[1][0].numpy().argmax()"
      ],
      "execution_count": 20,
      "outputs": [
        {
          "output_type": "execute_result",
          "data": {
            "text/plain": [
              "23"
            ]
          },
          "metadata": {},
          "execution_count": 20
        }
      ]
    },
    {
      "cell_type": "code",
      "metadata": {
        "id": "UmxfEtfZACxL",
        "outputId": "a5d8b40e-4aac-4bd3-c505-0324ccf7f7fb",
        "colab": {
          "base_uri": "https://localhost:8080/"
        }
      },
      "source": [
        "y_pred[1][0][2]"
      ],
      "execution_count": 21,
      "outputs": [
        {
          "output_type": "execute_result",
          "data": {
            "text/plain": [
              "<tf.Tensor: shape=(), dtype=float32, numpy=0.00013949312>"
            ]
          },
          "metadata": {},
          "execution_count": 21
        }
      ]
    }
  ]
}